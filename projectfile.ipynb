{
  "nbformat": 4,
  "nbformat_minor": 0,
  "metadata": {
    "colab": {
      "provenance": [],
      "collapsed_sections": [],
      "authorship_tag": "ABX9TyNK1N0j+vy9JuAuRZvCg+ot",
      "include_colab_link": true
    },
    "kernelspec": {
      "name": "python3",
      "display_name": "Python 3"
    },
    "language_info": {
      "name": "python"
    },
    "accelerator": "GPU"
  },
  "cells": [
    {
      "cell_type": "markdown",
      "metadata": {
        "id": "view-in-github",
        "colab_type": "text"
      },
      "source": [
        "<a href=\"https://colab.research.google.com/github/imadalishah/Safety-Aware-Motion-Prediction/blob/main/projectfile.ipynb\" target=\"_parent\"><img src=\"https://colab.research.google.com/assets/colab-badge.svg\" alt=\"Open In Colab\"/></a>"
      ]
    },
    {
      "cell_type": "code",
      "execution_count": null,
      "metadata": {
        "id": "hO2m6NW7Eg3p"
      },
      "outputs": [],
      "source": [
        "!pip install -q condacolab\n",
        "import condacolab\n",
        "condacolab.install()\n",
        "!conda --version\n",
        "\n",
        "from google.colab import drive\n",
        "drive.mount(\"/gdrive\")\n",
        "!ln -s \"/gdrive/My Drive/Project0\" \"/content/\"\n",
        "\n",
        "%cd /content/Project0\n",
        "\n",
        "! git clone https://github.com/xrenaa/safety-aware-motion-prediction\n",
        "%cd /content/Project0/safety-aware-motion-prediction/experiments/nuScenes\n",
        "! git clone https://github.com/nutonomy/nuscenes-devkit.git\n",
        "! git checkout 12fb09169eb8ebf04bc39a30cd50334215769c3e"
      ]
    },
    {
      "cell_type": "code",
      "source": [
        "%cd /content/Project0/\n",
        "!which python # should return /usr/local/bin/python\n",
        "!python --version\n",
        "!echo $PYTHONPATH\n",
        "%env PYTHONPATH=</p> "
      ],
      "metadata": {
        "id": "KSEyjZz6JDqg"
      },
      "execution_count": null,
      "outputs": []
    },
    {
      "cell_type": "code",
      "source": [
        "%cd /content/Project0/safety-aware-motion-prediction\n",
        "! conda create --name safeDrive python=3.7.14 -y\n",
        "! source activate safeDrive\n",
        "! pip install -r requirement.txt\n",
        "#!conda update --all"
      ],
      "metadata": {
        "id": "-r-W-3TDOPFL"
      },
      "execution_count": null,
      "outputs": []
    },
    {
      "cell_type": "code",
      "source": [
        "%cd /content/Project0/safety-aware-motion-prediction/experiments/nuScenes\n",
        "\n",
        "#!wget https://www.nuscenes.org/data/v1.0-mini.tgz  # Download the nuScenes mini split.\n",
        "!wget https://www.nuscenes.org/data/nuScenes-panoptic-v1.0-mini.tar.gz  # Download the Panoptic nuScenes mini split.\n",
        "\n",
        "!tar -xf v1.0-mini.tgz -C /content/Project0/safety-aware-motion-prediction/experiments/nuScenes/  # Uncompress the nuScenes mini split.\n",
        "!tar -xf nuScenes-panoptic-v1.0-mini.tar.gz -C /content/Project0/safety-aware-motion-prediction/experiments/nuScenes/   # Uncompress the Panoptic nuScenes mini split.\n",
        "\n",
        "!pip install nuscenes-devkit &> /dev/null  # Install nuScenes."
      ],
      "metadata": {
        "id": "KE6ofcrToZve"
      },
      "execution_count": null,
      "outputs": []
    },
    {
      "cell_type": "code",
      "source": [
        "%cd /content/Project0/safety-aware-motion-prediction/experiments/nuScenes\n",
        "\n",
        "# For the tranval nuScenes dataset, use the following\n",
        "!python process_data.py --data ../nuScenes --split train --img_size 128\n",
        "!python process_data.py --data ../nuScenes --split train_val --img_size 128\n",
        "!python process_data.py --data ../nuScenes --split val --img_size 128"
      ],
      "metadata": {
        "id": "iNjoJQBvtvtX"
      },
      "execution_count": null,
      "outputs": []
    }
  ]
}